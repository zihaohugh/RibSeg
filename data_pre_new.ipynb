{
 "cells": [
  {
   "cell_type": "code",
   "execution_count": null,
   "metadata": {},
   "outputs": [],
   "source": [
    "import nibabel as nib\n",
    "import numpy as np\n",
    "import os\n",
    "\n",
    "rib_files = [\n",
    "    f\"CF2002_LR{i}.nii.gz\" for i in range(1, 13)\n",
    "] + [\n",
    "    f\"CF2002_RR{i}.nii.gz\" for i in range(1, 13)\n",
    "]\n",
    "\n",
    "# path of the data folder\n",
    "data_folder = r\"./CF2002\"\n",
    "\n",
    "# path of the output folder\n",
    "output_data_folder = r\"./data/pn/data_pn/\"\n",
    "output_label_folder = r\"./data/pn/label_pn/\"\n",
    "os.makedirs(output_data_folder, exist_ok=True)\n",
    "os.makedirs(output_label_folder, exist_ok=True)\n",
    "\n",
    "# process each data file\n",
    "for data in rib_files:\n",
    "    source_path = os.path.join(data_folder, data)\n",
    "    label_path = os.path.join(data_folder, data)\n",
    "\n",
    "    try:\n",
    "        # load the source data\n",
    "        source = nib.load(source_path).get_fdata()\n",
    "        source[source >= 200] = 1\n",
    "        source[source != 1] = 0\n",
    "\n",
    "        # load the label data\n",
    "        label = nib.load(label_path).get_fdata()\n",
    "\n",
    "        # get the coordinates of the selected points\n",
    "        temp = np.argwhere(source == 1)\n",
    "\n",
    "        # get the labels of the selected points\n",
    "        label_selected_points = [label[i[0]][i[1]][i[2]] for i in temp]\n",
    "\n",
    "        # convert to numpy array\n",
    "        temp = np.array(temp)\n",
    "        label_selected_points = np.array(label_selected_points)\n",
    "\n",
    "        # save the data\n",
    "        np.save(os.path.join(output_data_folder, \"test\" + data[:-7]), temp)\n",
    "        np.save(os.path.join(output_label_folder, \"test\" + data[:-7]), label_selected_points)\n",
    "\n",
    "        print(f\"Processed: {data}\")\n",
    "\n",
    "    except Exception as e:\n",
    "        print(f\"Error processing {data}: {e}\")\n"
   ]
  }
 ],
 "metadata": {
  "kernelspec": {
   "display_name": "base",
   "language": "python",
   "name": "python3"
  },
  "language_info": {
   "name": "python",
   "version": "3.12.4"
  }
 },
 "nbformat": 4,
 "nbformat_minor": 2
}
